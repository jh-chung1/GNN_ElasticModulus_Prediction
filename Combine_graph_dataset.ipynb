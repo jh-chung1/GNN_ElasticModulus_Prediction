{
 "cells": [
  {
   "cell_type": "code",
   "execution_count": 3,
   "id": "8231b17e",
   "metadata": {},
   "outputs": [],
   "source": [
    "import numpy as np\n",
    "\n",
    "from utils.combine_graph_dataset import combine_graph_data"
   ]
  },
  {
   "cell_type": "markdown",
   "id": "2d0a322f",
   "metadata": {},
   "source": [
    "## Combine graph dataset that from different rocks and subcube size\n",
    "\n",
    "- function **combine_graph_data**(cover_intervals, overlaps, rock_id, subcube_size, data_num, except_size, save_path, file_path_constructor)\n",
    "    - Parameters:\n",
    "        - cover_intervals: A list of cover intervals.\n",
    "        - overlaps: A list of overlap values.\n",
    "        - rock_id: A list of rock identifiers.\n",
    "        - subcube_size: An array of subcube sizes.\n",
    "        - data_num: An array indicating the number of data points for each subcube size.\n",
    "        - except_size: A list of subcube sizes to exclude.\n",
    "        - save_path: Path where the combined dataset will be saved.\n",
    "        - file_path_constructor: Function to construct the file path for loading data.\n",
    " "
   ]
  },
  {
   "cell_type": "code",
   "execution_count": 5,
   "id": "a2a0bd6f",
   "metadata": {},
   "outputs": [
    {
     "name": "stdout",
     "output_type": "stream",
     "text": [
      "saved: B1_B2_FB1_FB2_DFS_CoverInterval_10_Overlap_0.5_except_subcube150\n",
      "saved: CG_DFS_CoverInterval_10_Overlap_0.5_except_subcube150\n",
      "saved: B1_B2_FB1_FB2_DFS_CoverInterval_10_Overlap_0.5_except_subcube90_100_180\n"
     ]
    }
   ],
   "source": [
    "# Define save path for the combined dataset\n",
    "save_path = './examples/graph_data'\n",
    "\n",
    "combine_graph_data([10], [0.5], ['B1','B2','FB1','FB2'], np.array([90, 100, 180]), np.array([1000, 729, 125]), ['150'], save_path)\n",
    "combine_graph_data([10], [0.5], ['CG'], np.array([90, 100, 180]), np.array([1000, 729, 125]), ['150'], save_path) # Unseen rock (CG)\n",
    "combine_graph_data([10], [0.5], ['B1','B2','FB1','FB2'], np.array([150]), np.array([216]), ['90', '100', '180'], save_path)"
   ]
  },
  {
   "cell_type": "code",
   "execution_count": null,
   "id": "c3d03f48",
   "metadata": {},
   "outputs": [],
   "source": []
  }
 ],
 "metadata": {
  "kernelspec": {
   "display_name": "GNN_Elastic",
   "language": "python",
   "name": "gnn_elastic"
  },
  "language_info": {
   "codemirror_mode": {
    "name": "ipython",
    "version": 3
   },
   "file_extension": ".py",
   "mimetype": "text/x-python",
   "name": "python",
   "nbconvert_exporter": "python",
   "pygments_lexer": "ipython3",
   "version": "3.9.18"
  }
 },
 "nbformat": 4,
 "nbformat_minor": 5
}
